{
  "nbformat": 4,
  "nbformat_minor": 0,
  "metadata": {
    "colab": {
      "provenance": []
    },
    "kernelspec": {
      "name": "python3",
      "display_name": "Python 3"
    },
    "language_info": {
      "name": "python"
    }
  },
  "cells": [
    {
      "cell_type": "markdown",
      "source": [
        "1. What are the data structures , and why are they important?\n",
        "  - Data structer  is a specialize formats for organizing , storing , and accesing collections of data.\n",
        "     - they are important because they provide dfficient ways to manage information based on its characteristics and intended use\n",
        "     - choosing the right data structer significantly impact the efficiency and performace of your program.\n",
        "     - well-choosen data structer can:\n",
        "     - simply data manupulating\n",
        "     - optimize searching and sorting operations\n",
        "     - conserve memory"
      ],
      "metadata": {
        "id": "Eo1rErymgEiB"
      }
    },
    {
      "cell_type": "markdown",
      "source": [
        "2. Explain the difference between mutable and immutable data types with examples.\n",
        " - Mutable Data Types:\n",
        "    - Definition: Mutable data types can be modified after they are created.\n",
        " - Immutable Data Types\n",
        "    - Definition: Immutable data types cannot be modified after they are created"
      ],
      "metadata": {
        "id": "0FWr9O6YgEYM"
      }
    },
    {
      "cell_type": "code",
      "source": [
        "my_string = \"hello\"\n",
        "my_string = my_string + \" world\"\n",
        "print(my_string)\n"
      ],
      "metadata": {
        "colab": {
          "base_uri": "https://localhost:8080/"
        },
        "id": "_VpK06ZyplkK",
        "outputId": "5568ee5b-64d0-4c6b-d288-1c4cc75d9bd9"
      },
      "execution_count": null,
      "outputs": [
        {
          "output_type": "stream",
          "name": "stdout",
          "text": [
            "hello world\n"
          ]
        }
      ]
    },
    {
      "cell_type": "markdown",
      "source": [
        "3. What ae the main difference between list and tuples in  python?\n",
        " - The main difference between list and tuples are\n",
        "   ordered ,mutable collections of elements. think of shopping list or task list, list can hold items of various data types\n",
        "   - ordered ,immutable collection of elements similar to the lists. how ever, once ,the item in tuple cann't change."
      ],
      "metadata": {
        "id": "fPQT_5r7iZho"
      }
    },
    {
      "cell_type": "markdown",
      "source": [
        "4. Describe how dictionaries store data.\n",
        " - Dictionaries in Python store data as key-value pairs in a data structure called a hash table. This structure allows for fast retrieval, insertion, and deletion of data."
      ],
      "metadata": {
        "id": "CItQYlJ3iZUa"
      }
    },
    {
      "cell_type": "markdown",
      "source": [
        "5. What might you use a set instead of a list in python?\n",
        " - Use a set when you need to ensure that all elements are unique.\n",
        "   Sets automatically discard duplicate values, whereas lists allow duplicates.Sets automatically discard duplicate values, whereas lists allow duplicates.compared to lists that store order information."
      ],
      "metadata": {
        "id": "18Uyeka7iZBf"
      }
    },
    {
      "cell_type": "markdown",
      "source": [
        "6. What is a string in python , and how is it diferent form a list?\n",
        "  - A string in Python is a sequence of characters enclosed in quotes, either single (') or double (\"). Strings are a built-in immutable data type used to represent text.\n",
        "  When you need to store and manipulate a collection of items."
      ],
      "metadata": {
        "id": "5GTLn9HgiYwF"
      }
    },
    {
      "cell_type": "markdown",
      "source": [
        "7. How do tuples ensure data integrity in python ?\n",
        "  -\n",
        "Tuples in Python ensure data integrity primarily through their immutability. This characteristic makes them an excellent choice when you want to create a collection of data that should not change throughout the lifetime of a program"
      ],
      "metadata": {
        "id": "4V9yUzWOiYl3"
      }
    },
    {
      "cell_type": "markdown",
      "source": [
        "8. what is a hast table, and how does it relate to dictionaries in python?\n",
        "  - A hash table is a data structure that provides a highly efficient way to store and retrieve data using a key-value pair mechanism. It works by applying a hash function to keys, which computes a numerical value (called a hash code) that determines where the corresponding value should be stored in the table"
      ],
      "metadata": {
        "id": "-UW7hNIniYSW"
      }
    },
    {
      "cell_type": "markdown",
      "source": [
        "9. Can list contain different data types in python ?\n",
        " - Yes, a list in Python can contain elements of different data types. This flexibility is a key feature of Python's dynamic typing system. Lists can store numbers, strings, objects, other lists, and even mixed combinations of these."
      ],
      "metadata": {
        "id": "GX-0Lc8ziYGV"
      }
    },
    {
      "cell_type": "markdown",
      "source": [
        "10. Explain why strings are immutable in python ?\n",
        "  - Strings in Python are immutable, meaning that once a string is created, it cannot be changed. This design choice has several advantages related to efficiency, security, and reliability."
      ],
      "metadata": {
        "id": "s7L9ilJYiX34"
      }
    },
    {
      "cell_type": "markdown",
      "source": [
        "11. What advantages do dictionaries affer over lists for certain task ?\n",
        "  - Dictionaries and lists are both fundamental Python data structures, but dictionaries excel in tasks that require key-value mapping and efficient lookups. Here are the key advantages dictionaries have over lists:\n",
        "  1. Faster Lookups\n",
        "  2. Key-Value Pair Structure\n",
        "  3.  Better Organization and Readability\n",
        "  4. Avoid Duplicates\n",
        "  5.  Mutability"
      ],
      "metadata": {
        "id": "X7uxxrKqjx2e"
      }
    },
    {
      "cell_type": "markdown",
      "source": [
        "12. Describe a scenario where using a tuple would be preferable over a list .\n",
        "  - Tuples are preferable over lists in scenarios where immutability, hashability, and semantic clarity are important. Below is a detailed explanation of such scenarios:"
      ],
      "metadata": {
        "id": "Z-z5blHUj3D6"
      }
    },
    {
      "cell_type": "markdown",
      "source": [
        "13. How do sets handle duplicate values in python ?\n",
        "  - In Python, sets automatically handle duplicate values by ensuring that each element in the set is unique. If you attempt to add duplicate values to a set, the duplicates are ignored, and only one instance of each unique value is retained."
      ],
      "metadata": {
        "id": "dNGshG-uj2rD"
      }
    },
    {
      "cell_type": "code",
      "source": [
        "my_list = [1, 2, 2, 3, 4, 4, 5]\n",
        "unique_items = list(set(my_list))\n",
        "print(unique_items)\n"
      ],
      "metadata": {
        "colab": {
          "base_uri": "https://localhost:8080/"
        },
        "id": "op9UtVGJ0AZH",
        "outputId": "58f5faa3-e174-4291-df71-2ab7638c6435"
      },
      "execution_count": null,
      "outputs": [
        {
          "output_type": "stream",
          "name": "stdout",
          "text": [
            "[1, 2, 3, 4, 5]\n"
          ]
        }
      ]
    },
    {
      "cell_type": "markdown",
      "source": [
        "14. How does the \"in\" keyword  work differently for list and dictinories ?"
      ],
      "metadata": {
        "id": "NZ_ncNvsj2lq"
      }
    },
    {
      "cell_type": "code",
      "source": [
        "my_list = [1, 2, 3, 4, 5]\n",
        "print(3 in my_list)\n",
        "print(6 in my_list)\n"
      ],
      "metadata": {
        "colab": {
          "base_uri": "https://localhost:8080/"
        },
        "id": "H14k-WIE0sDh",
        "outputId": "09c58794-b976-4f4b-d907-20131c27e385"
      },
      "execution_count": 2,
      "outputs": [
        {
          "output_type": "stream",
          "name": "stdout",
          "text": [
            "True\n",
            "False\n"
          ]
        }
      ]
    },
    {
      "cell_type": "markdown",
      "source": [
        "15. Can you modify the elements of a tuple ? explain why or why not.\n",
        " - Tuples are immutable in Python, meaning their elements cannot be modified after creation.\n",
        "This immutability ensures performance optimizations, data integrity, and allows tuples to be used as keys in dictionaries and elements in sets.\n",
        "If you need to modify the elements, consider using a list instead of a tuple.\n",
        "\n",
        "\n",
        "\n",
        "\n",
        "\n"
      ],
      "metadata": {
        "id": "z9eQ8R97j2fD"
      }
    },
    {
      "cell_type": "markdown",
      "source": [
        "16. what is a nested dictionary , and give an example of its use case ?\n",
        "A nested dictionary is a dictionary that contains another dictionary as a value. It’s ideal for representing complex, hierarchical data and allows efficient storage and retrieval of structured data. It’s particularly useful in scenarios where you need to organize information in a multi-level structure, like student records, employee data, or product catalogs\n",
        "  -"
      ],
      "metadata": {
        "id": "_RHZ4j4Wj2UK"
      }
    },
    {
      "cell_type": "markdown",
      "source": [
        "17. Describe the time complexiity of accessing elements in a dictionary.\n",
        "  - In Python, dictionaries are implemented using hash tables, which allows for very efficient access, insertion, and deletion operations. When accessing an element in a dictionary, Python computes the hash of the key and uses this hash to look up the value associated with that key."
      ],
      "metadata": {
        "id": "ziQvpJCsjxvJ"
      }
    },
    {
      "cell_type": "markdown",
      "source": [
        "18. In what situations are list preferred over dictionaries?\n",
        " - Although dictionaries are great for key-value mappings, lists are preferred in situations where you need:\n",
        "  1. Lists maintain the order of elements as they are added.\n",
        "  2. Lists allow you to access elements by their index, providing a simple and efficient way to retrieve data based on position.\n",
        "  3. When the Collection is Homogeneous\n",
        "  4. When You Need to Iterate Over All Element"
      ],
      "metadata": {
        "id": "qSkc8un9jxrG"
      }
    },
    {
      "cell_type": "markdown",
      "source": [
        "19. Why are dictionaries considerd unordered, and how does that affect data retrival?\n",
        " - Dictionaries in Python are considered unordered because the elements in a dictionary are not stored in any particular sequence. Unlike lists, where the order of elements is maintained based on their position (index), dictionaries store key-value pairs, but the order of the key-value pairs is not guaranteed."
      ],
      "metadata": {
        "id": "aHu2mAE-jxnW"
      }
    },
    {
      "cell_type": "markdown",
      "source": [
        "20. Explain difference the difference between a list and dictionary in term of data retrival.\n",
        " - You need to know the index of the item to retrieve it from the list.\n",
        "Key-Based Retrieval: Data in a dictionary is accessed by its key. You need to know the key to retrieve its corresponding value."
      ],
      "metadata": {
        "id": "_QFRMuHxjxgw"
      }
    },
    {
      "cell_type": "code",
      "execution_count": 4,
      "metadata": {
        "id": "bQXhoMpICRAB",
        "colab": {
          "base_uri": "https://localhost:8080/"
        },
        "outputId": "1b8a99c8-2d06-49c1-a3fc-756d2ca31707"
      },
      "outputs": [
        {
          "output_type": "stream",
          "name": "stdout",
          "text": [
            "Nilesh\n"
          ]
        }
      ],
      "source": [
        "#1. Write code to create a string with your name and print it.\n",
        "name = \"Nilesh\"\n",
        "print(name)"
      ]
    },
    {
      "cell_type": "code",
      "source": [
        "#2. write a code to find the lenght of string \"Hello world\"\n",
        "code = \"hello world\"\n",
        "len(code)"
      ],
      "metadata": {
        "colab": {
          "base_uri": "https://localhost:8080/"
        },
        "id": "M1Onl8rsGNOu",
        "outputId": "3d05a1b2-e6e4-4a7d-f287-fc393d5eda5b"
      },
      "execution_count": 10,
      "outputs": [
        {
          "output_type": "execute_result",
          "data": {
            "text/plain": [
              "11"
            ]
          },
          "metadata": {},
          "execution_count": 10
        }
      ]
    },
    {
      "cell_type": "code",
      "source": [
        "#3. write a code to slice the first 3 characters from the string \"python programing\".\n",
        "string = \"python programing\"\n",
        "string[:3]"
      ],
      "metadata": {
        "colab": {
          "base_uri": "https://localhost:8080/",
          "height": 36
        },
        "id": "ipXJHMU-Gtlb",
        "outputId": "38093ac2-9e17-4e16-fffc-174840a9ddaa"
      },
      "execution_count": 14,
      "outputs": [
        {
          "output_type": "execute_result",
          "data": {
            "text/plain": [
              "'pyt'"
            ],
            "application/vnd.google.colaboratory.intrinsic+json": {
              "type": "string"
            }
          },
          "metadata": {},
          "execution_count": 14
        }
      ]
    },
    {
      "cell_type": "code",
      "source": [
        "#4. write a code to convert the string \"hello\" to uppercase.\n",
        "string = \"hello\"\n",
        "string.upper()"
      ],
      "metadata": {
        "colab": {
          "base_uri": "https://localhost:8080/",
          "height": 36
        },
        "id": "l5cfcjl7HuXi",
        "outputId": "3dc7e59d-ae4e-4413-a0c5-6f757e4afb53"
      },
      "execution_count": 15,
      "outputs": [
        {
          "output_type": "execute_result",
          "data": {
            "text/plain": [
              "'HELLO'"
            ],
            "application/vnd.google.colaboratory.intrinsic+json": {
              "type": "string"
            }
          },
          "metadata": {},
          "execution_count": 15
        }
      ]
    },
    {
      "cell_type": "code",
      "source": [
        "#5. write a code to replace the word \"apple\" with \"orange\" in the string \"i like apple\"\n",
        "string = \"i like apple\"\n",
        "string.replace(\"apple\", \"orange\")"
      ],
      "metadata": {
        "colab": {
          "base_uri": "https://localhost:8080/",
          "height": 36
        },
        "id": "iyN1xvIUIXGr",
        "outputId": "00864d42-181e-4d29-e923-0d7c30e216b3"
      },
      "execution_count": 16,
      "outputs": [
        {
          "output_type": "execute_result",
          "data": {
            "text/plain": [
              "'i like orange'"
            ],
            "application/vnd.google.colaboratory.intrinsic+json": {
              "type": "string"
            }
          },
          "metadata": {},
          "execution_count": 16
        }
      ]
    },
    {
      "cell_type": "code",
      "source": [
        "#6. write a code to creat a list with numbers 1 to 5 and print it.\n",
        "# Create a list with numbers from 1 to 5\n",
        "numbers = [1, 2, 3, 4, 5]\n",
        "\n",
        "print(numbers)\n"
      ],
      "metadata": {
        "colab": {
          "base_uri": "https://localhost:8080/"
        },
        "id": "cD1aIvDEI07a",
        "outputId": "d62a6145-6efc-430e-b452-8ed6a67d4cf8"
      },
      "execution_count": 17,
      "outputs": [
        {
          "output_type": "stream",
          "name": "stdout",
          "text": [
            "[1, 2, 3, 4, 5]\n"
          ]
        }
      ]
    },
    {
      "cell_type": "code",
      "source": [
        "#7. write a code to append the number 10 to the list [1,2,3,4]\n",
        "list = [1,2,3,4]\n",
        "list.append(10)\n",
        "print(list)"
      ],
      "metadata": {
        "colab": {
          "base_uri": "https://localhost:8080/"
        },
        "id": "zYw6egD6JjoE",
        "outputId": "1354aa52-0421-4e4d-c80f-e956f48bbf5c"
      },
      "execution_count": 18,
      "outputs": [
        {
          "output_type": "stream",
          "name": "stdout",
          "text": [
            "[1, 2, 3, 4, 10]\n"
          ]
        }
      ]
    },
    {
      "cell_type": "code",
      "source": [
        "#8. write a code to remove the number 3 from the list [1,2,3,4,5]\n",
        "list =[1,2,3,4,5]\n",
        "list.remove(3)\n",
        "print(list)\n"
      ],
      "metadata": {
        "colab": {
          "base_uri": "https://localhost:8080/"
        },
        "id": "RIuy5TtyJ7zp",
        "outputId": "3a835e51-6848-4122-b617-2dea605e2265"
      },
      "execution_count": 19,
      "outputs": [
        {
          "output_type": "stream",
          "name": "stdout",
          "text": [
            "[1, 2, 4, 5]\n"
          ]
        }
      ]
    },
    {
      "cell_type": "code",
      "source": [
        "#9. write a code to acces the second element in the list ['a','b','c','d']\n",
        "list =['a','b','c','d']\n",
        "list[1]"
      ],
      "metadata": {
        "colab": {
          "base_uri": "https://localhost:8080/",
          "height": 36
        },
        "id": "UhyOnewDKTmS",
        "outputId": "910c02bb-b2b4-463b-8ae7-ead3f77900e2"
      },
      "execution_count": 20,
      "outputs": [
        {
          "output_type": "execute_result",
          "data": {
            "text/plain": [
              "'b'"
            ],
            "application/vnd.google.colaboratory.intrinsic+json": {
              "type": "string"
            }
          },
          "metadata": {},
          "execution_count": 20
        }
      ]
    },
    {
      "cell_type": "code",
      "source": [
        "#10. Write a code to reverse the list [10,20,30,40,50]\n",
        "list = [10,20,30,40,50]\n",
        "list.reverse()\n",
        "print(list)"
      ],
      "metadata": {
        "colab": {
          "base_uri": "https://localhost:8080/"
        },
        "id": "zvzT1mP4Kotm",
        "outputId": "45f84e4e-d2e5-4cf4-f045-95b8ceb9648d"
      },
      "execution_count": 21,
      "outputs": [
        {
          "output_type": "stream",
          "name": "stdout",
          "text": [
            "[50, 40, 30, 20, 10]\n"
          ]
        }
      ]
    },
    {
      "cell_type": "code",
      "source": [
        "#11. Write a code to create a tuple with the elements 10,20,30 and print it\n",
        "tuple =(10,20,30)\n",
        "print(tuple)"
      ],
      "metadata": {
        "colab": {
          "base_uri": "https://localhost:8080/"
        },
        "id": "M2Ytw6K3K-w4",
        "outputId": "030b7063-a0b6-4758-9a5a-96edeb9ec074"
      },
      "execution_count": 22,
      "outputs": [
        {
          "output_type": "stream",
          "name": "stdout",
          "text": [
            "(10, 20, 30)\n"
          ]
        }
      ]
    },
    {
      "cell_type": "code",
      "source": [
        "#12. Write a code to access the first element of the tuple ('apple',banana','cherry')\n",
        "tuple =('apple','banana','cherry')\n",
        "tuple[0]"
      ],
      "metadata": {
        "colab": {
          "base_uri": "https://localhost:8080/",
          "height": 36
        },
        "id": "YMa7WiawLUP5",
        "outputId": "3208586a-e18a-494b-f5ca-7214a38325c7"
      },
      "execution_count": 23,
      "outputs": [
        {
          "output_type": "execute_result",
          "data": {
            "text/plain": [
              "'apple'"
            ],
            "application/vnd.google.colaboratory.intrinsic+json": {
              "type": "string"
            }
          },
          "metadata": {},
          "execution_count": 23
        }
      ]
    },
    {
      "cell_type": "code",
      "source": [
        "#14. write a code to find the index of the element \"cat\" in the tupple('dog','cat', 'rabbit')\n",
        "tuple =('dog','cat', 'rabbit')\n",
        "tuple.index('cat')"
      ],
      "metadata": {
        "colab": {
          "base_uri": "https://localhost:8080/"
        },
        "id": "GTZc1sPmLttX",
        "outputId": "9899592b-867f-425f-cf21-65bfafae8054"
      },
      "execution_count": 24,
      "outputs": [
        {
          "output_type": "execute_result",
          "data": {
            "text/plain": [
              "1"
            ]
          },
          "metadata": {},
          "execution_count": 24
        }
      ]
    },
    {
      "cell_type": "code",
      "source": [
        "#15.Write a code to cheak the if element \"banana\" is in the tupple('apple','orange','banana')\n",
        "tuple =('apple','orange','banana')\n",
        "if 'banana' in tuple:\n",
        "  print(\"banana is in the tuple\")"
      ],
      "metadata": {
        "colab": {
          "base_uri": "https://localhost:8080/"
        },
        "id": "ljkg01HBMMde",
        "outputId": "8a88abb5-dc48-4d67-cc34-2f0bc28197ba"
      },
      "execution_count": 25,
      "outputs": [
        {
          "output_type": "stream",
          "name": "stdout",
          "text": [
            "banana is in the tuple\n"
          ]
        }
      ]
    },
    {
      "cell_type": "code",
      "source": [],
      "metadata": {
        "id": "vmG0rZwWM663"
      },
      "execution_count": null,
      "outputs": []
    }
  ]
}